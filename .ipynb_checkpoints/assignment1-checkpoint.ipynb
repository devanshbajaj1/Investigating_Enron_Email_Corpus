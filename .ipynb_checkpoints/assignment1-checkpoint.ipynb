{
 "cells": [
  {
   "cell_type": "code",
   "execution_count": null,
   "id": "d09a436c",
   "metadata": {},
   "outputs": [],
   "source": []
  },
  {
   "cell_type": "code",
   "execution_count": 3,
   "id": "63427394",
   "metadata": {},
   "outputs": [],
   "source": [
    "import os\n",
    "from email.parser import Parser\n",
    "\n",
    "def emails_between(suspects):\n",
    "    emails_between = []\n",
    "    email_directory = \"enron_email_corpus\"\n",
    "    \n",
    "    parser = Parser()\n",
    "\n",
    "    # Process suspects for efficient lookup\n",
    "    all_suspects = {email.lower(): account for account, emails in suspects.items() for email in emails}\n",
    "\n",
    "    for root, dirs, files in os.walk(email_directory):\n",
    "        for file_name in files:\n",
    "            file_path = os.path.join(root, file_name)\n",
    "\n",
    "            try:\n",
    "                with open(file_path, 'r', encoding='utf-8', errors='ignore') as file:\n",
    "                    msg = parser.parse(file)\n",
    "\n",
    "                sender = msg.get('From')\n",
    "                recipients = msg.get('To')\n",
    "\n",
    "                if sender and recipients:\n",
    "                    # Process recipients to ensure lowercase and strip spaces\n",
    "                    processed_recipients = [email.strip().lower() for email in recipients.split(',') if email.strip()]\n",
    "\n",
    "                    # Check if the sender and recipient is a suspect\n",
    "                    sender_match = sender.lower() in all_suspects\n",
    "                    recipient_matches = False\n",
    "                    unique_recipients = []\n",
    "                    for recipient in processed_recipients:\n",
    "                        if recipient in all_suspects:\n",
    "                            recipient_matches = True\n",
    "                        if recipient not in unique_recipients:\n",
    "                            unique_recipients.append(recipient)\n",
    "\n",
    "                   # Check if any recipients that are suspects are limited to 20 or fewer unique recipients\n",
    "                    if sender_match and recipient_matches and len(unique_recipients) <= 20:\n",
    "                        emails_between.append(msg)\n",
    "            except Exception as e:\n",
    "                print(f\"Failed to parse {file_path}: {e}\")\n",
    "                continue\n",
    "\n",
    "    return emails_between\n",
    "\n"
   ]
  },
  {
   "cell_type": "code",
   "execution_count": null,
   "id": "efafcdb5",
   "metadata": {},
   "outputs": [],
   "source": []
  }
 ],
 "metadata": {
  "kernelspec": {
   "display_name": "Python 3 (ipykernel)",
   "language": "python",
   "name": "python3"
  },
  "language_info": {
   "codemirror_mode": {
    "name": "ipython",
    "version": 3
   },
   "file_extension": ".py",
   "mimetype": "text/x-python",
   "name": "python",
   "nbconvert_exporter": "python",
   "pygments_lexer": "ipython3",
   "version": "3.11.5"
  }
 },
 "nbformat": 4,
 "nbformat_minor": 5
}
